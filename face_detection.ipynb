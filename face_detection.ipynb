{
 "cells": [
  {
   "metadata": {
    "ExecuteTime": {
     "end_time": "2024-11-18T02:50:41.155329Z",
     "start_time": "2024-11-18T02:50:40.935983Z"
    }
   },
   "cell_type": "code",
   "source": [
    "# Import the OpenCV Module\n",
    "import cv2\n"
   ],
   "id": "3aba33fd34b80b0a",
   "outputs": [],
   "execution_count": 1
  },
  {
   "metadata": {
    "ExecuteTime": {
     "end_time": "2024-11-18T02:50:41.192306Z",
     "start_time": "2024-11-18T02:50:41.157818Z"
    }
   },
   "cell_type": "code",
   "source": [
    "# Load the pre-trained classifiers for face, eyes, nose, and mouth detection\n",
    "face_cascade = cv2.CascadeClassifier(cv2.data.haarcascades + 'haarcascade_frontalface_default.xml')\n",
    "smile_cascade = cv2.CascadeClassifier(cv2.data.haarcascades + 'haarcascade_smile.xml') \n",
    "eye_cascade = cv2.CascadeClassifier(cv2.data.haarcascades + 'haarcascade_eye.xml')\n",
    "# nose_cascade = cv2.CascadeClassifier(cv2.data.haarcascades + 'haarcascade_mcs_nose.xml')\n",
    "# mouth_cascade = cv2.CascadeClassifier(cv2.data.haarcascades + 'haarcascade_mcs_mouth.xml')\n",
    "\n",
    "# Cat Cascades\n",
    "cat_cascade = cv2.CascadeClassifier(cv2.data.haarcascades + 'haarcascade_frontalcatface.xml')\n"
   ],
   "id": "c2ab263a48273711",
   "outputs": [],
   "execution_count": 2
  },
  {
   "metadata": {
    "ExecuteTime": {
     "end_time": "2024-11-18T02:50:42.622612Z",
     "start_time": "2024-11-18T02:50:41.193846Z"
    }
   },
   "cell_type": "code",
   "source": [
    "# Open the webcam (0 is the default camera)\n",
    "cap = cv2.VideoCapture(0)\n",
    "\n",
    "# Check if the camera opened successfully\n",
    "if not cap.isOpened():\n",
    "    print(\"Error: Could not open webcam.\")\n",
    "    exit()"
   ],
   "id": "416cab76d80179b7",
   "outputs": [],
   "execution_count": 3
  },
  {
   "metadata": {
    "ExecuteTime": {
     "end_time": "2024-11-18T02:51:44.593145Z",
     "start_time": "2024-11-18T02:50:42.623664Z"
    }
   },
   "cell_type": "code",
   "source": [
    "# Start capturing frames from the webcam\n",
    "while True:\n",
    "    # Capture frame-by-frame\n",
    "    ret, frame = cap.read()\n",
    "\n",
    "    # If frame was not read successfully, exit the loop\n",
    "    if not ret:\n",
    "        print(\"Error: Could not read frame from webcam.\")\n",
    "        break\n",
    "\n",
    "    # Convert the frame to grayscale (Haar Cascades need grayscale)\n",
    "    gray = cv2.cvtColor(frame, cv2.COLOR_BGR2GRAY)\n",
    "\n",
    "    # Detect faces in the frame\n",
    "    faces = face_cascade.detectMultiScale(gray, scaleFactor=1.1, minNeighbors=5)\n",
    "\n",
    "    # Draw rectangles around the detected faces and look for other features within each face\n",
    "    for (x, y, w, h) in faces:\n",
    "        # Draw rectangle around the face\n",
    "        cv2.rectangle(frame, (x, y), (x + w, y + h), (255, 0, 0), 2)\n",
    "\n",
    "        # Define the region of interest (ROI) for eyes, nose, and mouth based on the detected face\n",
    "        roi_gray = gray[y:y + h, x:x + w]\n",
    "        roi_color = frame[y:y + h, x:x + w]\n",
    "\n",
    "        # Detect eyes in the face region\n",
    "        eyes = eye_cascade.detectMultiScale(roi_gray, scaleFactor=1.1, minNeighbors=10)\n",
    "        for (ex, ey, ew, eh) in eyes:\n",
    "            cv2.rectangle(roi_color, (ex, ey), (ex + ew, ey + eh), (0, 255, 0), 2)\n",
    "            \n",
    "        # Detect smile in the face region\n",
    "        smiles = smile_cascade.detectMultiScale(roi_gray, scaleFactor=1.5, minNeighbors=20)\n",
    "        for (sx, sy, sw, sh) in smiles:\n",
    "            # Draw rectangle around the smile\n",
    "            cv2.rectangle(roi_color, (sx, sy), (sx + sw, sy + sh), (255, 255, 0), 2)\n",
    "\n",
    "        # # Detect nose in the face region\n",
    "        # nose = nose_cascade.detectMultiScale(roi_gray, scaleFactor=1.1, minNeighbors=5)\n",
    "        # for (nx, ny, nw, nh) in nose:\n",
    "        #     cv2.rectangle(roi_color, (nx, ny), (nx + nw, ny + nh), (0, 0, 255), 2)\n",
    "        # \n",
    "        # # Detect mouth in the face region (focusing on lower half of face to avoid false positives)\n",
    "        # mouths = mouth_cascade.detectMultiScale(roi_gray, scaleFactor=1.3, minNeighbors=20)\n",
    "        # for (mx, my, mw, mh) in mouths:\n",
    "        #     # Since the mouth should be detected in the lower half of the face, add condition\n",
    "        #     if my > h / 2:\n",
    "        #         cv2.rectangle(roi_color, (mx, my), (mx + mw, my + mh), (255, 255, 0), 2)\n",
    "\n",
    "\n",
    "\n",
    "    # Detection for Cat's\n",
    "    cats = cat_cascade.detectMultiScale(gray, scaleFactor=1.1, minNeighbors=20)\n",
    "    # Draw rectangles around detected cat faces\n",
    "    for (x, y, w, h) in cats:\n",
    "        cv2.rectangle(frame, (x, y), (x + w, y + h), (255, 0, 0), 2)\n",
    "    \n",
    "    # Display the frame with the detected features\n",
    "    cv2.imshow('Face, Eyes, Nose, and Mouth Detection', frame)\n",
    "\n",
    "    # Press 'q' to exit the loop\n",
    "    if cv2.waitKey(1) & 0xFF == ord('q'):\n",
    "        break"
   ],
   "id": "8ff0322482067cfe",
   "outputs": [
    {
     "name": "stderr",
     "output_type": "stream",
     "text": [
      "2024-11-17 21:50:44.310 python[18338:434046] +[IMKClient subclass]: chose IMKClient_Modern\n",
      "2024-11-17 21:50:44.310 python[18338:434046] +[IMKInputSession subclass]: chose IMKInputSession_Modern\n"
     ]
    }
   ],
   "execution_count": 4
  },
  {
   "metadata": {
    "ExecuteTime": {
     "end_time": "2024-11-19T01:53:35.762521Z",
     "start_time": "2024-11-19T01:53:35.480524Z"
    }
   },
   "cell_type": "code",
   "source": [
    "# Release the webcam and close the OpenCV windows\n",
    "cap.release()\n",
    "cv2.destroyAllWindows()"
   ],
   "id": "b1188113168d0d98",
   "outputs": [
    {
     "ename": "NameError",
     "evalue": "name 'cap' is not defined",
     "output_type": "error",
     "traceback": [
      "\u001B[0;31m---------------------------------------------------------------------------\u001B[0m",
      "\u001B[0;31mNameError\u001B[0m                                 Traceback (most recent call last)",
      "Cell \u001B[0;32mIn[1], line 2\u001B[0m\n\u001B[1;32m      1\u001B[0m \u001B[38;5;66;03m# Release the webcam and close the OpenCV windows\u001B[39;00m\n\u001B[0;32m----> 2\u001B[0m cap\u001B[38;5;241m.\u001B[39mrelease()\n\u001B[1;32m      3\u001B[0m cv2\u001B[38;5;241m.\u001B[39mdestroyAllWindows()\n",
      "\u001B[0;31mNameError\u001B[0m: name 'cap' is not defined"
     ]
    }
   ],
   "execution_count": 1
  },
  {
   "metadata": {
    "ExecuteTime": {
     "end_time": "2024-11-18T02:51:44.737833Z",
     "start_time": "2024-11-18T02:51:44.736071Z"
    }
   },
   "cell_type": "code",
   "source": "",
   "id": "29f8b0f624b420c3",
   "outputs": [],
   "execution_count": 5
  }
 ],
 "metadata": {
  "kernelspec": {
   "display_name": "Python 3",
   "language": "python",
   "name": "python3"
  },
  "language_info": {
   "codemirror_mode": {
    "name": "ipython",
    "version": 2
   },
   "file_extension": ".py",
   "mimetype": "text/x-python",
   "name": "python",
   "nbconvert_exporter": "python",
   "pygments_lexer": "ipython2",
   "version": "2.7.6"
  }
 },
 "nbformat": 4,
 "nbformat_minor": 5
}
